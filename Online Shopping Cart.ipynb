{
 "cells": [
  {
   "cell_type": "code",
   "execution_count": null,
   "id": "f0f3ef73-504c-4ee6-8ded-01f9b4c490ac",
   "metadata": {},
   "outputs": [],
   "source": []
  }
 ],
 "metadata": {
  "kernelspec": {
   "display_name": "",
   "name": ""
  },
  "language_info": {
   "name": ""
  }
 },
 "nbformat": 4,
 "nbformat_minor": 5
}
